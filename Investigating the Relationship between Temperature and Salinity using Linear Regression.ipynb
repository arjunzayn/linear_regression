{
 "cells": [
  {
   "cell_type": "markdown",
   "id": "529cab22",
   "metadata": {},
   "source": [
    "### Problem Statement: Investigating the Relationship between Temperature and Salinity using Linear Regression"
   ]
  },
  {
   "cell_type": "code",
   "execution_count": 1,
   "id": "fb573a80",
   "metadata": {},
   "outputs": [],
   "source": [
    "#import necessary dependencies\n",
    "import pandas as pd\n",
    "import numpy as np\n",
    "import matplotlib.pyplot as plt\n",
    "from sklearn.model_selection import train_test_split\n",
    "from sklearn.linear_model import LinearRegression\n",
    "from sklearn.metrics import r2_score"
   ]
  },
  {
   "cell_type": "code",
   "execution_count": 3,
   "id": "40410d9b",
   "metadata": {},
   "outputs": [
    {
     "name": "stderr",
     "output_type": "stream",
     "text": [
      "C:\\Users\\Arjun Zayn\\AppData\\Local\\Temp\\ipykernel_28248\\1239266332.py:2: DtypeWarning: Columns (47,73) have mixed types. Specify dtype option on import or set low_memory=False.\n",
      "  dataset =  pd.read_csv(r\"D:\\AI\\Datasets\\bottle.csv\")\n"
     ]
    },
    {
     "data": {
      "text/html": [
       "<div>\n",
       "<style scoped>\n",
       "    .dataframe tbody tr th:only-of-type {\n",
       "        vertical-align: middle;\n",
       "    }\n",
       "\n",
       "    .dataframe tbody tr th {\n",
       "        vertical-align: top;\n",
       "    }\n",
       "\n",
       "    .dataframe thead th {\n",
       "        text-align: right;\n",
       "    }\n",
       "</style>\n",
       "<table border=\"1\" class=\"dataframe\">\n",
       "  <thead>\n",
       "    <tr style=\"text-align: right;\">\n",
       "      <th></th>\n",
       "      <th>Cst_Cnt</th>\n",
       "      <th>Btl_Cnt</th>\n",
       "      <th>Sta_ID</th>\n",
       "      <th>Depth_ID</th>\n",
       "      <th>Depthm</th>\n",
       "      <th>T_degC</th>\n",
       "      <th>Salnty</th>\n",
       "      <th>O2ml_L</th>\n",
       "      <th>STheta</th>\n",
       "      <th>O2Sat</th>\n",
       "      <th>...</th>\n",
       "      <th>R_PHAEO</th>\n",
       "      <th>R_PRES</th>\n",
       "      <th>R_SAMP</th>\n",
       "      <th>DIC1</th>\n",
       "      <th>DIC2</th>\n",
       "      <th>TA1</th>\n",
       "      <th>TA2</th>\n",
       "      <th>pH2</th>\n",
       "      <th>pH1</th>\n",
       "      <th>DIC Quality Comment</th>\n",
       "    </tr>\n",
       "  </thead>\n",
       "  <tbody>\n",
       "    <tr>\n",
       "      <th>0</th>\n",
       "      <td>1</td>\n",
       "      <td>1</td>\n",
       "      <td>054.0 056.0</td>\n",
       "      <td>19-4903CR-HY-060-0930-05400560-0000A-3</td>\n",
       "      <td>0</td>\n",
       "      <td>10.500</td>\n",
       "      <td>33.4400</td>\n",
       "      <td>NaN</td>\n",
       "      <td>25.64900</td>\n",
       "      <td>NaN</td>\n",
       "      <td>...</td>\n",
       "      <td>NaN</td>\n",
       "      <td>0</td>\n",
       "      <td>NaN</td>\n",
       "      <td>NaN</td>\n",
       "      <td>NaN</td>\n",
       "      <td>NaN</td>\n",
       "      <td>NaN</td>\n",
       "      <td>NaN</td>\n",
       "      <td>NaN</td>\n",
       "      <td>NaN</td>\n",
       "    </tr>\n",
       "    <tr>\n",
       "      <th>1</th>\n",
       "      <td>1</td>\n",
       "      <td>2</td>\n",
       "      <td>054.0 056.0</td>\n",
       "      <td>19-4903CR-HY-060-0930-05400560-0008A-3</td>\n",
       "      <td>8</td>\n",
       "      <td>10.460</td>\n",
       "      <td>33.4400</td>\n",
       "      <td>NaN</td>\n",
       "      <td>25.65600</td>\n",
       "      <td>NaN</td>\n",
       "      <td>...</td>\n",
       "      <td>NaN</td>\n",
       "      <td>8</td>\n",
       "      <td>NaN</td>\n",
       "      <td>NaN</td>\n",
       "      <td>NaN</td>\n",
       "      <td>NaN</td>\n",
       "      <td>NaN</td>\n",
       "      <td>NaN</td>\n",
       "      <td>NaN</td>\n",
       "      <td>NaN</td>\n",
       "    </tr>\n",
       "    <tr>\n",
       "      <th>2</th>\n",
       "      <td>1</td>\n",
       "      <td>3</td>\n",
       "      <td>054.0 056.0</td>\n",
       "      <td>19-4903CR-HY-060-0930-05400560-0010A-7</td>\n",
       "      <td>10</td>\n",
       "      <td>10.460</td>\n",
       "      <td>33.4370</td>\n",
       "      <td>NaN</td>\n",
       "      <td>25.65400</td>\n",
       "      <td>NaN</td>\n",
       "      <td>...</td>\n",
       "      <td>NaN</td>\n",
       "      <td>10</td>\n",
       "      <td>NaN</td>\n",
       "      <td>NaN</td>\n",
       "      <td>NaN</td>\n",
       "      <td>NaN</td>\n",
       "      <td>NaN</td>\n",
       "      <td>NaN</td>\n",
       "      <td>NaN</td>\n",
       "      <td>NaN</td>\n",
       "    </tr>\n",
       "    <tr>\n",
       "      <th>3</th>\n",
       "      <td>1</td>\n",
       "      <td>4</td>\n",
       "      <td>054.0 056.0</td>\n",
       "      <td>19-4903CR-HY-060-0930-05400560-0019A-3</td>\n",
       "      <td>19</td>\n",
       "      <td>10.450</td>\n",
       "      <td>33.4200</td>\n",
       "      <td>NaN</td>\n",
       "      <td>25.64300</td>\n",
       "      <td>NaN</td>\n",
       "      <td>...</td>\n",
       "      <td>NaN</td>\n",
       "      <td>19</td>\n",
       "      <td>NaN</td>\n",
       "      <td>NaN</td>\n",
       "      <td>NaN</td>\n",
       "      <td>NaN</td>\n",
       "      <td>NaN</td>\n",
       "      <td>NaN</td>\n",
       "      <td>NaN</td>\n",
       "      <td>NaN</td>\n",
       "    </tr>\n",
       "    <tr>\n",
       "      <th>4</th>\n",
       "      <td>1</td>\n",
       "      <td>5</td>\n",
       "      <td>054.0 056.0</td>\n",
       "      <td>19-4903CR-HY-060-0930-05400560-0020A-7</td>\n",
       "      <td>20</td>\n",
       "      <td>10.450</td>\n",
       "      <td>33.4210</td>\n",
       "      <td>NaN</td>\n",
       "      <td>25.64300</td>\n",
       "      <td>NaN</td>\n",
       "      <td>...</td>\n",
       "      <td>NaN</td>\n",
       "      <td>20</td>\n",
       "      <td>NaN</td>\n",
       "      <td>NaN</td>\n",
       "      <td>NaN</td>\n",
       "      <td>NaN</td>\n",
       "      <td>NaN</td>\n",
       "      <td>NaN</td>\n",
       "      <td>NaN</td>\n",
       "      <td>NaN</td>\n",
       "    </tr>\n",
       "    <tr>\n",
       "      <th>...</th>\n",
       "      <td>...</td>\n",
       "      <td>...</td>\n",
       "      <td>...</td>\n",
       "      <td>...</td>\n",
       "      <td>...</td>\n",
       "      <td>...</td>\n",
       "      <td>...</td>\n",
       "      <td>...</td>\n",
       "      <td>...</td>\n",
       "      <td>...</td>\n",
       "      <td>...</td>\n",
       "      <td>...</td>\n",
       "      <td>...</td>\n",
       "      <td>...</td>\n",
       "      <td>...</td>\n",
       "      <td>...</td>\n",
       "      <td>...</td>\n",
       "      <td>...</td>\n",
       "      <td>...</td>\n",
       "      <td>...</td>\n",
       "      <td>...</td>\n",
       "    </tr>\n",
       "    <tr>\n",
       "      <th>864858</th>\n",
       "      <td>34404</td>\n",
       "      <td>864859</td>\n",
       "      <td>093.4 026.4</td>\n",
       "      <td>20-1611SR-MX-310-2239-09340264-0000A-7</td>\n",
       "      <td>0</td>\n",
       "      <td>18.744</td>\n",
       "      <td>33.4083</td>\n",
       "      <td>5.805</td>\n",
       "      <td>23.87055</td>\n",
       "      <td>108.74</td>\n",
       "      <td>...</td>\n",
       "      <td>0.18</td>\n",
       "      <td>0</td>\n",
       "      <td>NaN</td>\n",
       "      <td>NaN</td>\n",
       "      <td>NaN</td>\n",
       "      <td>NaN</td>\n",
       "      <td>NaN</td>\n",
       "      <td>NaN</td>\n",
       "      <td>NaN</td>\n",
       "      <td>NaN</td>\n",
       "    </tr>\n",
       "    <tr>\n",
       "      <th>864859</th>\n",
       "      <td>34404</td>\n",
       "      <td>864860</td>\n",
       "      <td>093.4 026.4</td>\n",
       "      <td>20-1611SR-MX-310-2239-09340264-0002A-3</td>\n",
       "      <td>2</td>\n",
       "      <td>18.744</td>\n",
       "      <td>33.4083</td>\n",
       "      <td>5.805</td>\n",
       "      <td>23.87072</td>\n",
       "      <td>108.74</td>\n",
       "      <td>...</td>\n",
       "      <td>0.18</td>\n",
       "      <td>2</td>\n",
       "      <td>4.0</td>\n",
       "      <td>NaN</td>\n",
       "      <td>NaN</td>\n",
       "      <td>NaN</td>\n",
       "      <td>NaN</td>\n",
       "      <td>NaN</td>\n",
       "      <td>NaN</td>\n",
       "      <td>NaN</td>\n",
       "    </tr>\n",
       "    <tr>\n",
       "      <th>864860</th>\n",
       "      <td>34404</td>\n",
       "      <td>864861</td>\n",
       "      <td>093.4 026.4</td>\n",
       "      <td>20-1611SR-MX-310-2239-09340264-0005A-3</td>\n",
       "      <td>5</td>\n",
       "      <td>18.692</td>\n",
       "      <td>33.4150</td>\n",
       "      <td>5.796</td>\n",
       "      <td>23.88911</td>\n",
       "      <td>108.46</td>\n",
       "      <td>...</td>\n",
       "      <td>0.18</td>\n",
       "      <td>5</td>\n",
       "      <td>3.0</td>\n",
       "      <td>NaN</td>\n",
       "      <td>NaN</td>\n",
       "      <td>NaN</td>\n",
       "      <td>NaN</td>\n",
       "      <td>NaN</td>\n",
       "      <td>NaN</td>\n",
       "      <td>NaN</td>\n",
       "    </tr>\n",
       "    <tr>\n",
       "      <th>864861</th>\n",
       "      <td>34404</td>\n",
       "      <td>864862</td>\n",
       "      <td>093.4 026.4</td>\n",
       "      <td>20-1611SR-MX-310-2239-09340264-0010A-3</td>\n",
       "      <td>10</td>\n",
       "      <td>18.161</td>\n",
       "      <td>33.4062</td>\n",
       "      <td>5.816</td>\n",
       "      <td>24.01426</td>\n",
       "      <td>107.74</td>\n",
       "      <td>...</td>\n",
       "      <td>0.31</td>\n",
       "      <td>10</td>\n",
       "      <td>2.0</td>\n",
       "      <td>NaN</td>\n",
       "      <td>NaN</td>\n",
       "      <td>NaN</td>\n",
       "      <td>NaN</td>\n",
       "      <td>NaN</td>\n",
       "      <td>NaN</td>\n",
       "      <td>NaN</td>\n",
       "    </tr>\n",
       "    <tr>\n",
       "      <th>864862</th>\n",
       "      <td>34404</td>\n",
       "      <td>864863</td>\n",
       "      <td>093.4 026.4</td>\n",
       "      <td>20-1611SR-MX-310-2239-09340264-0015A-3</td>\n",
       "      <td>15</td>\n",
       "      <td>17.533</td>\n",
       "      <td>33.3880</td>\n",
       "      <td>5.774</td>\n",
       "      <td>24.15297</td>\n",
       "      <td>105.66</td>\n",
       "      <td>...</td>\n",
       "      <td>0.61</td>\n",
       "      <td>15</td>\n",
       "      <td>1.0</td>\n",
       "      <td>NaN</td>\n",
       "      <td>NaN</td>\n",
       "      <td>NaN</td>\n",
       "      <td>NaN</td>\n",
       "      <td>NaN</td>\n",
       "      <td>NaN</td>\n",
       "      <td>NaN</td>\n",
       "    </tr>\n",
       "  </tbody>\n",
       "</table>\n",
       "<p>864863 rows × 74 columns</p>\n",
       "</div>"
      ],
      "text/plain": [
       "        Cst_Cnt  Btl_Cnt       Sta_ID                                Depth_ID  \\\n",
       "0             1        1  054.0 056.0  19-4903CR-HY-060-0930-05400560-0000A-3   \n",
       "1             1        2  054.0 056.0  19-4903CR-HY-060-0930-05400560-0008A-3   \n",
       "2             1        3  054.0 056.0  19-4903CR-HY-060-0930-05400560-0010A-7   \n",
       "3             1        4  054.0 056.0  19-4903CR-HY-060-0930-05400560-0019A-3   \n",
       "4             1        5  054.0 056.0  19-4903CR-HY-060-0930-05400560-0020A-7   \n",
       "...         ...      ...          ...                                     ...   \n",
       "864858    34404   864859  093.4 026.4  20-1611SR-MX-310-2239-09340264-0000A-7   \n",
       "864859    34404   864860  093.4 026.4  20-1611SR-MX-310-2239-09340264-0002A-3   \n",
       "864860    34404   864861  093.4 026.4  20-1611SR-MX-310-2239-09340264-0005A-3   \n",
       "864861    34404   864862  093.4 026.4  20-1611SR-MX-310-2239-09340264-0010A-3   \n",
       "864862    34404   864863  093.4 026.4  20-1611SR-MX-310-2239-09340264-0015A-3   \n",
       "\n",
       "        Depthm  T_degC   Salnty  O2ml_L    STheta   O2Sat  ...  R_PHAEO  \\\n",
       "0            0  10.500  33.4400     NaN  25.64900     NaN  ...      NaN   \n",
       "1            8  10.460  33.4400     NaN  25.65600     NaN  ...      NaN   \n",
       "2           10  10.460  33.4370     NaN  25.65400     NaN  ...      NaN   \n",
       "3           19  10.450  33.4200     NaN  25.64300     NaN  ...      NaN   \n",
       "4           20  10.450  33.4210     NaN  25.64300     NaN  ...      NaN   \n",
       "...        ...     ...      ...     ...       ...     ...  ...      ...   \n",
       "864858       0  18.744  33.4083   5.805  23.87055  108.74  ...     0.18   \n",
       "864859       2  18.744  33.4083   5.805  23.87072  108.74  ...     0.18   \n",
       "864860       5  18.692  33.4150   5.796  23.88911  108.46  ...     0.18   \n",
       "864861      10  18.161  33.4062   5.816  24.01426  107.74  ...     0.31   \n",
       "864862      15  17.533  33.3880   5.774  24.15297  105.66  ...     0.61   \n",
       "\n",
       "        R_PRES  R_SAMP  DIC1  DIC2  TA1  TA2  pH2  pH1  DIC Quality Comment  \n",
       "0            0     NaN   NaN   NaN  NaN  NaN  NaN  NaN                  NaN  \n",
       "1            8     NaN   NaN   NaN  NaN  NaN  NaN  NaN                  NaN  \n",
       "2           10     NaN   NaN   NaN  NaN  NaN  NaN  NaN                  NaN  \n",
       "3           19     NaN   NaN   NaN  NaN  NaN  NaN  NaN                  NaN  \n",
       "4           20     NaN   NaN   NaN  NaN  NaN  NaN  NaN                  NaN  \n",
       "...        ...     ...   ...   ...  ...  ...  ...  ...                  ...  \n",
       "864858       0     NaN   NaN   NaN  NaN  NaN  NaN  NaN                  NaN  \n",
       "864859       2     4.0   NaN   NaN  NaN  NaN  NaN  NaN                  NaN  \n",
       "864860       5     3.0   NaN   NaN  NaN  NaN  NaN  NaN                  NaN  \n",
       "864861      10     2.0   NaN   NaN  NaN  NaN  NaN  NaN                  NaN  \n",
       "864862      15     1.0   NaN   NaN  NaN  NaN  NaN  NaN                  NaN  \n",
       "\n",
       "[864863 rows x 74 columns]"
      ]
     },
     "execution_count": 3,
     "metadata": {},
     "output_type": "execute_result"
    }
   ],
   "source": [
    "# loading dataset, this is the path from my local system\n",
    "dataset =  pd.read_csv(r\"D:\\AI\\Datasets\\bottle.csv\")\n",
    "dataset"
   ]
  },
  {
   "cell_type": "code",
   "execution_count": 4,
   "id": "e9aa40c7",
   "metadata": {},
   "outputs": [
    {
     "data": {
      "text/plain": [
       "(864863, 74)"
      ]
     },
     "execution_count": 4,
     "metadata": {},
     "output_type": "execute_result"
    }
   ],
   "source": [
    "dataset.shape"
   ]
  },
  {
   "cell_type": "code",
   "execution_count": 5,
   "id": "d30efe9b",
   "metadata": {},
   "outputs": [
    {
     "name": "stdout",
     "output_type": "stream",
     "text": [
      "<class 'pandas.core.frame.DataFrame'>\n",
      "RangeIndex: 864863 entries, 0 to 864862\n",
      "Data columns (total 74 columns):\n",
      " #   Column               Non-Null Count   Dtype  \n",
      "---  ------               --------------   -----  \n",
      " 0   Cst_Cnt              864863 non-null  int64  \n",
      " 1   Btl_Cnt              864863 non-null  int64  \n",
      " 2   Sta_ID               864863 non-null  object \n",
      " 3   Depth_ID             864863 non-null  object \n",
      " 4   Depthm               864863 non-null  int64  \n",
      " 5   T_degC               853900 non-null  float64\n",
      " 6   Salnty               817509 non-null  float64\n",
      " 7   O2ml_L               696201 non-null  float64\n",
      " 8   STheta               812174 non-null  float64\n",
      " 9   O2Sat                661274 non-null  float64\n",
      " 10  Oxy_µmol/Kg          661268 non-null  float64\n",
      " 11  BtlNum               118667 non-null  float64\n",
      " 12  RecInd               864863 non-null  int64  \n",
      " 13  T_prec               853900 non-null  float64\n",
      " 14  T_qual               23127 non-null   float64\n",
      " 15  S_prec               817509 non-null  float64\n",
      " 16  S_qual               74914 non-null   float64\n",
      " 17  P_qual               673755 non-null  float64\n",
      " 18  O_qual               184676 non-null  float64\n",
      " 19  SThtaq               65823 non-null   float64\n",
      " 20  O2Satq               217797 non-null  float64\n",
      " 21  ChlorA               225272 non-null  float64\n",
      " 22  Chlqua               639166 non-null  float64\n",
      " 23  Phaeop               225271 non-null  float64\n",
      " 24  Phaqua               639170 non-null  float64\n",
      " 25  PO4uM                413317 non-null  float64\n",
      " 26  PO4q                 451786 non-null  float64\n",
      " 27  SiO3uM               354091 non-null  float64\n",
      " 28  SiO3qu               510866 non-null  float64\n",
      " 29  NO2uM                337576 non-null  float64\n",
      " 30  NO2q                 529474 non-null  float64\n",
      " 31  NO3uM                337403 non-null  float64\n",
      " 32  NO3q                 529933 non-null  float64\n",
      " 33  NH3uM                64962 non-null   float64\n",
      " 34  NH3q                 808299 non-null  float64\n",
      " 35  C14As1               14432 non-null   float64\n",
      " 36  C14A1p               12760 non-null   float64\n",
      " 37  C14A1q               848605 non-null  float64\n",
      " 38  C14As2               14414 non-null   float64\n",
      " 39  C14A2p               12742 non-null   float64\n",
      " 40  C14A2q               848623 non-null  float64\n",
      " 41  DarkAs               22649 non-null   float64\n",
      " 42  DarkAp               20457 non-null   float64\n",
      " 43  DarkAq               840440 non-null  float64\n",
      " 44  MeanAs               22650 non-null   float64\n",
      " 45  MeanAp               20457 non-null   float64\n",
      " 46  MeanAq               840439 non-null  float64\n",
      " 47  IncTim               14437 non-null   object \n",
      " 48  LightP               18651 non-null   float64\n",
      " 49  R_Depth              864863 non-null  float64\n",
      " 50  R_TEMP               853900 non-null  float64\n",
      " 51  R_POTEMP             818816 non-null  float64\n",
      " 52  R_SALINITY           817509 non-null  float64\n",
      " 53  R_SIGMA              812007 non-null  float64\n",
      " 54  R_SVA                812092 non-null  float64\n",
      " 55  R_DYNHT              818206 non-null  float64\n",
      " 56  R_O2                 696201 non-null  float64\n",
      " 57  R_O2Sat              666448 non-null  float64\n",
      " 58  R_SIO3               354099 non-null  float64\n",
      " 59  R_PO4                413325 non-null  float64\n",
      " 60  R_NO3                337411 non-null  float64\n",
      " 61  R_NO2                337584 non-null  float64\n",
      " 62  R_NH4                64982 non-null   float64\n",
      " 63  R_CHLA               225276 non-null  float64\n",
      " 64  R_PHAEO              225275 non-null  float64\n",
      " 65  R_PRES               864863 non-null  int64  \n",
      " 66  R_SAMP               122006 non-null  float64\n",
      " 67  DIC1                 1999 non-null    float64\n",
      " 68  DIC2                 224 non-null     float64\n",
      " 69  TA1                  2084 non-null    float64\n",
      " 70  TA2                  234 non-null     float64\n",
      " 71  pH2                  10 non-null      float64\n",
      " 72  pH1                  84 non-null      float64\n",
      " 73  DIC Quality Comment  55 non-null      object \n",
      "dtypes: float64(65), int64(5), object(4)\n",
      "memory usage: 488.3+ MB\n"
     ]
    }
   ],
   "source": [
    "dataset.info()"
   ]
  },
  {
   "cell_type": "code",
   "execution_count": 6,
   "id": "3e9e0989",
   "metadata": {},
   "outputs": [
    {
     "data": {
      "text/plain": [
       "Index(['Cst_Cnt', 'Btl_Cnt', 'Sta_ID', 'Depth_ID', 'Depthm', 'T_degC',\n",
       "       'Salnty', 'O2ml_L', 'STheta', 'O2Sat', 'Oxy_µmol/Kg', 'BtlNum',\n",
       "       'RecInd', 'T_prec', 'T_qual', 'S_prec', 'S_qual', 'P_qual', 'O_qual',\n",
       "       'SThtaq', 'O2Satq', 'ChlorA', 'Chlqua', 'Phaeop', 'Phaqua', 'PO4uM',\n",
       "       'PO4q', 'SiO3uM', 'SiO3qu', 'NO2uM', 'NO2q', 'NO3uM', 'NO3q', 'NH3uM',\n",
       "       'NH3q', 'C14As1', 'C14A1p', 'C14A1q', 'C14As2', 'C14A2p', 'C14A2q',\n",
       "       'DarkAs', 'DarkAp', 'DarkAq', 'MeanAs', 'MeanAp', 'MeanAq', 'IncTim',\n",
       "       'LightP', 'R_Depth', 'R_TEMP', 'R_POTEMP', 'R_SALINITY', 'R_SIGMA',\n",
       "       'R_SVA', 'R_DYNHT', 'R_O2', 'R_O2Sat', 'R_SIO3', 'R_PO4', 'R_NO3',\n",
       "       'R_NO2', 'R_NH4', 'R_CHLA', 'R_PHAEO', 'R_PRES', 'R_SAMP', 'DIC1',\n",
       "       'DIC2', 'TA1', 'TA2', 'pH2', 'pH1', 'DIC Quality Comment'],\n",
       "      dtype='object')"
      ]
     },
     "execution_count": 6,
     "metadata": {},
     "output_type": "execute_result"
    }
   ],
   "source": [
    "dataset.columns"
   ]
  },
  {
   "cell_type": "code",
   "execution_count": 8,
   "id": "4b0346a9",
   "metadata": {},
   "outputs": [],
   "source": [
    "#data preparation\n",
    "df = dataset[['T_degC',\n",
    "       'Salnty']]"
   ]
  },
  {
   "cell_type": "code",
   "execution_count": 9,
   "id": "c0b89e49",
   "metadata": {},
   "outputs": [
    {
     "data": {
      "text/html": [
       "<div>\n",
       "<style scoped>\n",
       "    .dataframe tbody tr th:only-of-type {\n",
       "        vertical-align: middle;\n",
       "    }\n",
       "\n",
       "    .dataframe tbody tr th {\n",
       "        vertical-align: top;\n",
       "    }\n",
       "\n",
       "    .dataframe thead th {\n",
       "        text-align: right;\n",
       "    }\n",
       "</style>\n",
       "<table border=\"1\" class=\"dataframe\">\n",
       "  <thead>\n",
       "    <tr style=\"text-align: right;\">\n",
       "      <th></th>\n",
       "      <th>T_degC</th>\n",
       "      <th>Salnty</th>\n",
       "    </tr>\n",
       "  </thead>\n",
       "  <tbody>\n",
       "    <tr>\n",
       "      <th>0</th>\n",
       "      <td>10.50</td>\n",
       "      <td>33.440</td>\n",
       "    </tr>\n",
       "    <tr>\n",
       "      <th>1</th>\n",
       "      <td>10.46</td>\n",
       "      <td>33.440</td>\n",
       "    </tr>\n",
       "    <tr>\n",
       "      <th>2</th>\n",
       "      <td>10.46</td>\n",
       "      <td>33.437</td>\n",
       "    </tr>\n",
       "    <tr>\n",
       "      <th>3</th>\n",
       "      <td>10.45</td>\n",
       "      <td>33.420</td>\n",
       "    </tr>\n",
       "    <tr>\n",
       "      <th>4</th>\n",
       "      <td>10.45</td>\n",
       "      <td>33.421</td>\n",
       "    </tr>\n",
       "  </tbody>\n",
       "</table>\n",
       "</div>"
      ],
      "text/plain": [
       "   T_degC  Salnty\n",
       "0   10.50  33.440\n",
       "1   10.46  33.440\n",
       "2   10.46  33.437\n",
       "3   10.45  33.420\n",
       "4   10.45  33.421"
      ]
     },
     "execution_count": 9,
     "metadata": {},
     "output_type": "execute_result"
    }
   ],
   "source": [
    "df.head()"
   ]
  },
  {
   "cell_type": "code",
   "execution_count": 10,
   "id": "731de18f",
   "metadata": {},
   "outputs": [
    {
     "data": {
      "text/plain": [
       "T_degC    10963\n",
       "Salnty    47354\n",
       "dtype: int64"
      ]
     },
     "execution_count": 10,
     "metadata": {},
     "output_type": "execute_result"
    }
   ],
   "source": [
    "df.isna().sum()"
   ]
  },
  {
   "cell_type": "code",
   "execution_count": 11,
   "id": "2aeea672",
   "metadata": {},
   "outputs": [
    {
     "name": "stderr",
     "output_type": "stream",
     "text": [
      "C:\\Users\\Arjun Zayn\\AppData\\Local\\Temp\\ipykernel_28248\\3931961377.py:1: SettingWithCopyWarning: \n",
      "A value is trying to be set on a copy of a slice from a DataFrame\n",
      "\n",
      "See the caveats in the documentation: https://pandas.pydata.org/pandas-docs/stable/user_guide/indexing.html#returning-a-view-versus-a-copy\n",
      "  df.dropna(axis = 0, inplace =  True)\n"
     ]
    }
   ],
   "source": [
    "df.dropna(axis = 0, inplace =  True)"
   ]
  },
  {
   "cell_type": "code",
   "execution_count": 12,
   "id": "8687352c",
   "metadata": {},
   "outputs": [
    {
     "data": {
      "text/plain": [
       "(814247, 2)"
      ]
     },
     "execution_count": 12,
     "metadata": {},
     "output_type": "execute_result"
    }
   ],
   "source": [
    "df.shape"
   ]
  },
  {
   "cell_type": "code",
   "execution_count": 13,
   "id": "9451c8bb",
   "metadata": {},
   "outputs": [],
   "source": [
    "#i have took 1st 1000 rows\n",
    "df = df.sample(1000)"
   ]
  },
  {
   "cell_type": "code",
   "execution_count": 14,
   "id": "7f0ddc87",
   "metadata": {},
   "outputs": [
    {
     "data": {
      "text/plain": [
       "(1000, 2)"
      ]
     },
     "execution_count": 14,
     "metadata": {},
     "output_type": "execute_result"
    }
   ],
   "source": [
    "df.shape"
   ]
  },
  {
   "cell_type": "code",
   "execution_count": 15,
   "id": "351722c8",
   "metadata": {},
   "outputs": [
    {
     "data": {
      "text/html": [
       "<div>\n",
       "<style scoped>\n",
       "    .dataframe tbody tr th:only-of-type {\n",
       "        vertical-align: middle;\n",
       "    }\n",
       "\n",
       "    .dataframe tbody tr th {\n",
       "        vertical-align: top;\n",
       "    }\n",
       "\n",
       "    .dataframe thead th {\n",
       "        text-align: right;\n",
       "    }\n",
       "</style>\n",
       "<table border=\"1\" class=\"dataframe\">\n",
       "  <thead>\n",
       "    <tr style=\"text-align: right;\">\n",
       "      <th></th>\n",
       "      <th>T_degC</th>\n",
       "      <th>Salnty</th>\n",
       "    </tr>\n",
       "  </thead>\n",
       "  <tbody>\n",
       "    <tr>\n",
       "      <th>count</th>\n",
       "      <td>1000.000000</td>\n",
       "      <td>1000.000000</td>\n",
       "    </tr>\n",
       "    <tr>\n",
       "      <th>mean</th>\n",
       "      <td>10.698687</td>\n",
       "      <td>33.850315</td>\n",
       "    </tr>\n",
       "    <tr>\n",
       "      <th>std</th>\n",
       "      <td>4.154992</td>\n",
       "      <td>0.454374</td>\n",
       "    </tr>\n",
       "    <tr>\n",
       "      <th>min</th>\n",
       "      <td>1.580000</td>\n",
       "      <td>32.281000</td>\n",
       "    </tr>\n",
       "    <tr>\n",
       "      <th>25%</th>\n",
       "      <td>7.707500</td>\n",
       "      <td>33.494500</td>\n",
       "    </tr>\n",
       "    <tr>\n",
       "      <th>50%</th>\n",
       "      <td>9.740500</td>\n",
       "      <td>33.900000</td>\n",
       "    </tr>\n",
       "    <tr>\n",
       "      <th>75%</th>\n",
       "      <td>13.622500</td>\n",
       "      <td>34.198500</td>\n",
       "    </tr>\n",
       "    <tr>\n",
       "      <th>max</th>\n",
       "      <td>29.640000</td>\n",
       "      <td>35.450000</td>\n",
       "    </tr>\n",
       "  </tbody>\n",
       "</table>\n",
       "</div>"
      ],
      "text/plain": [
       "            T_degC       Salnty\n",
       "count  1000.000000  1000.000000\n",
       "mean     10.698687    33.850315\n",
       "std       4.154992     0.454374\n",
       "min       1.580000    32.281000\n",
       "25%       7.707500    33.494500\n",
       "50%       9.740500    33.900000\n",
       "75%      13.622500    34.198500\n",
       "max      29.640000    35.450000"
      ]
     },
     "execution_count": 15,
     "metadata": {},
     "output_type": "execute_result"
    }
   ],
   "source": [
    "df.describe()"
   ]
  },
  {
   "cell_type": "code",
   "execution_count": 69,
   "id": "6c16d0e3",
   "metadata": {},
   "outputs": [
    {
     "data": {
      "image/png": "[encoded data removed]",
      "text/plain": [
       "<Figure size 640x480 with 1 Axes>"
      ]
     },
     "metadata": {},
     "output_type": "display_data"
    }
   ],
   "source": [
    "#plotting datapoints\n",
    "plt.scatter(x = df['T_degC'], y = df['Salnty'], alpha = 0.5, c='g')\n",
    "plt.xlabel(\"Temparature of water\")\n",
    "plt.ylabel(\"Water Salanity\")\n",
    "plt.show()"
   ]
  },
  {
   "cell_type": "code",
   "execution_count": 22,
   "id": "7c3ea533",
   "metadata": {},
   "outputs": [],
   "source": [
    "X = df['T_degC']\n",
    "y = df['Salnty']"
   ]
  },
  {
   "cell_type": "code",
   "execution_count": 23,
   "id": "6d530c6f",
   "metadata": {},
   "outputs": [],
   "source": [
    "#splitting data into test and train\n",
    "X_train, X_test, y_train, y_test = train_test_split(X, y, test_size = 0.3, shuffle = True, random_state = 10)"
   ]
  },
  {
   "cell_type": "code",
   "execution_count": 25,
   "id": "791cf756",
   "metadata": {},
   "outputs": [
    {
     "name": "stdout",
     "output_type": "stream",
     "text": [
      "(700,)\n",
      "(700,)\n"
     ]
    }
   ],
   "source": [
    "print(X_train.shape)\n",
    "print(y_train.shape)"
   ]
  },
  {
   "cell_type": "code",
   "execution_count": 28,
   "id": "9729713c",
   "metadata": {},
   "outputs": [
    {
     "data": {
      "text/plain": [
       "LinearRegression()"
      ]
     },
     "execution_count": 28,
     "metadata": {},
     "output_type": "execute_result"
    }
   ],
   "source": [
    "#fitting data into LinearRegression()\n",
    "lr = LinearRegression()\n",
    "lr.fit(np.array(X_train).reshape(-1, 1), np.array(y_train).reshape(-1, 1))"
   ]
  },
  {
   "cell_type": "code",
   "execution_count": 29,
   "id": "eeb4fd1d",
   "metadata": {},
   "outputs": [
    {
     "data": {
      "text/plain": [
       "array([[-0.05297884]])"
      ]
     },
     "execution_count": 29,
     "metadata": {},
     "output_type": "execute_result"
    }
   ],
   "source": [
    "m = lr.coef_\n",
    "m"
   ]
  },
  {
   "cell_type": "code",
   "execution_count": 31,
   "id": "a9db5294",
   "metadata": {},
   "outputs": [
    {
     "data": {
      "text/plain": [
       "array([34.41731685])"
      ]
     },
     "execution_count": 31,
     "metadata": {},
     "output_type": "execute_result"
    }
   ],
   "source": [
    "c = lr.intercept_\n",
    "c"
   ]
  },
  {
   "cell_type": "code",
   "execution_count": 35,
   "id": "bd44bff7",
   "metadata": {},
   "outputs": [],
   "source": [
    "y_pred = lr.predict(np.array(X_test).reshape(-1, 1))"
   ]
  },
  {
   "cell_type": "code",
   "execution_count": 37,
   "id": "f3e199c2",
   "metadata": {},
   "outputs": [
    {
     "data": {
      "text/plain": [
       "0.3201386653074929"
      ]
     },
     "execution_count": 37,
     "metadata": {},
     "output_type": "execute_result"
    }
   ],
   "source": [
    "#scaling of this model\n",
    "r2_score(y_test, y_pred)"
   ]
  },
  {
   "cell_type": "code",
   "execution_count": 44,
   "id": "90dbe506",
   "metadata": {},
   "outputs": [],
   "source": [
    "x_input =  np.linspace(0, 30, 500)\n",
    "\n",
    "#formula for straight line\n",
    "y_input = m * x_input + c\n",
    "y_input = y_input.reshape(-1, 1)"
   ]
  },
  {
   "cell_type": "code",
   "execution_count": 70,
   "id": "25f22260",
   "metadata": {},
   "outputs": [
    {
     "data": {
      "image/png": "[encoded data removed]",
      "text/plain": [
       "<Figure size 640x480 with 1 Axes>"
      ]
     },
     "metadata": {},
     "output_type": "display_data"
    }
   ],
   "source": [
    "plt.scatter(x = X_train, y = y_train, alpha = 0.5, c='g')\n",
    "plt.plot(x_input, y_input, c='r')\n",
    "plt.xlabel(\"Temparature of water\")\n",
    "plt.ylabel(\"Water Salanity\")\n",
    "plt.show()"
   ]
  },
  {
   "cell_type": "code",
   "execution_count": null,
   "id": "a29dc1b5",
   "metadata": {},
   "outputs": [],
   "source": [
    "#for inference Sklearn uses the exact Ordinary Least Squares (OLS) method which we implemented to perform linear regression."
   ]
  }
 ],
 "metadata": {
  "kernelspec": {
   "display_name": "Python 3 (ipykernel)",
   "language": "python",
   "name": "python3"
  },
  "language_info": {
   "codemirror_mode": {
    "name": "ipython",
    "version": 3
   },
   "file_extension": ".py",
   "mimetype": "text/x-python",
   "name": "python",
   "nbconvert_exporter": "python",
   "pygments_lexer": "ipython3",
   "version": "3.9.13"
  }
 },
 "nbformat": 4,
 "nbformat_minor": 5
}
